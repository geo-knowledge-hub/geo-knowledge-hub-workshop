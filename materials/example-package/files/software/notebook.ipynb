{
 "cells": [
  {
   "cell_type": "markdown",
   "id": "f952dcb4-7131-466a-927b-bc606816354b",
   "metadata": {},
   "source": [
    "## Example - Jupyter Notebook\n",
    "\n",
    "This is a simple Jupyter Notebook.\n"
   ]
  },
  {
   "cell_type": "code",
   "execution_count": 3,
   "id": "f918fc9e-f4b3-400f-8512-e6970d2ce3db",
   "metadata": {},
   "outputs": [],
   "source": [
    "import pandas as pd"
   ]
  }
 ],
 "metadata": {
  "kernelspec": {
   "display_name": "Python 3 (ipykernel)",
   "language": "python",
   "name": "python3"
  },
  "language_info": {
   "codemirror_mode": {
    "name": "ipython",
    "version": 3
   },
   "file_extension": ".py",
   "mimetype": "text/x-python",
   "name": "python",
   "nbconvert_exporter": "python",
   "pygments_lexer": "ipython3",
   "version": "3.9.0"
  }
 },
 "nbformat": 4,
 "nbformat_minor": 5
}
